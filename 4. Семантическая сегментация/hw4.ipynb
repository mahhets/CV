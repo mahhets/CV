{
 "cells": [
  {
   "cell_type": "code",
   "execution_count": 1,
   "metadata": {
    "id": "JrMpkHiKTr3-"
   },
   "outputs": [],
   "source": [
    "%tensorflow_version 2.x"
   ]
  },
  {
   "cell_type": "code",
   "execution_count": 2,
   "metadata": {
    "id": "4R-bXoSSTsQC"
   },
   "outputs": [],
   "source": [
    "import sys\n",
    "import os\n",
    "\n",
    "import matplotlib.pyplot as plt\n",
    "import numpy as np\n",
    "import skimage.io as io\n",
    "\n",
    "import tensorflow as tf\n",
    "import tensorflow_datasets as tfds\n",
    "\n",
    "%matplotlib inline"
   ]
  },
  {
   "cell_type": "markdown",
   "metadata": {
    "id": "GI2LklsEV632"
   },
   "source": [
    "#### Загрузка данных\n",
    "Создадим папку для данных"
   ]
  },
  {
   "cell_type": "code",
   "execution_count": 3,
   "metadata": {
    "id": "OSGBUgCUTsSZ"
   },
   "outputs": [],
   "source": [
    "!mkdir -p data"
   ]
  },
  {
   "cell_type": "markdown",
   "metadata": {
    "id": "MLb9DHKuVifp"
   },
   "source": [
    "Загружаем данные"
   ]
  },
  {
   "cell_type": "code",
   "execution_count": 4,
   "metadata": {
    "colab": {
     "base_uri": "https://localhost:8080/"
    },
    "id": "CzuaY3NRTsUx",
    "outputId": "ce25c6da-9511-43e1-bbc8-743c03b25919"
   },
   "outputs": [
    {
     "name": "stdout",
     "output_type": "stream",
     "text": [
      "--2021-10-14 18:20:50--  http://images.cocodataset.org/zips/train2017.zip\n",
      "Resolving images.cocodataset.org (images.cocodataset.org)... 52.217.198.137\n",
      "Connecting to images.cocodataset.org (images.cocodataset.org)|52.217.198.137|:80... connected.\n",
      "HTTP request sent, awaiting response... 200 OK\n",
      "Length: 19336861798 (18G) [application/zip]\n",
      "Saving to: ‘train2017.zip.1’\n",
      "\n",
      "train2017.zip.1       1%[                    ] 219.81M  67.5MB/s    eta 4m 48s ^C\n",
      "--2021-10-14 18:20:54--  http://images.cocodataset.org/zips/val2017.zip\n",
      "Resolving images.cocodataset.org (images.cocodataset.org)... 52.217.198.137\n",
      "Connecting to images.cocodataset.org (images.cocodataset.org)|52.217.198.137|:80... connected.\n",
      "HTTP request sent, awaiting response... 200 OK\n",
      "Length: 815585330 (778M) [application/zip]\n",
      "Saving to: ‘val2017.zip.1’\n",
      "\n",
      "val2017.zip.1       100%[===================>] 777.80M  77.3MB/s    in 10s     \n",
      "\n",
      "2021-10-14 18:21:04 (75.6 MB/s) - ‘val2017.zip.1’ saved [815585330/815585330]\n",
      "\n",
      "--2021-10-14 18:21:04--  http://images.cocodataset.org/annotations/annotations_trainval2017.zip\n",
      "Resolving images.cocodataset.org (images.cocodataset.org)... 52.217.139.129\n",
      "Connecting to images.cocodataset.org (images.cocodataset.org)|52.217.139.129|:80... connected.\n",
      "HTTP request sent, awaiting response... 200 OK\n",
      "Length: 252907541 (241M) [application/zip]\n",
      "Saving to: ‘annotations_trainval2017.zip.1’\n",
      "\n",
      "annotations_trainva 100%[===================>] 241.19M  78.0MB/s    in 3.3s    \n",
      "\n",
      "2021-10-14 18:21:07 (74.2 MB/s) - ‘annotations_trainval2017.zip.1’ saved [252907541/252907541]\n",
      "\n"
     ]
    }
   ],
   "source": [
    "!cd data && wget http://images.cocodataset.org/zips/train2017.zip\n",
    "!cd data && wget http://images.cocodataset.org/zips/val2017.zip \n",
    "!cd data && wget http://images.cocodataset.org/annotations/annotations_trainval2017.zip\n"
   ]
  },
  {
   "cell_type": "markdown",
   "metadata": {
    "id": "cMAKMb-iVlfh"
   },
   "source": [
    "Распаковка данных"
   ]
  },
  {
   "cell_type": "code",
   "execution_count": 5,
   "metadata": {
    "colab": {
     "base_uri": "https://localhost:8080/"
    },
    "id": "bR6OI9w5TsXI",
    "outputId": "cb1a3da3-66a1-4798-d698-6c53ec6f7e3d"
   },
   "outputs": [
    {
     "name": "stdout",
     "output_type": "stream",
     "text": [
      "replace train2017/000000147328.jpg? [y]es, [n]o, [A]ll, [N]one, [r]ename: n\n",
      "replace train2017/000000414738.jpg? [y]es, [n]o, [A]ll, [N]one, [r]ename: N\n",
      "replace val2017/000000212226.jpg? [y]es, [n]o, [A]ll, [N]one, [r]ename: NA\n",
      "replace annotations/instances_train2017.json? [y]es, [n]o, [A]ll, [N]one, [r]ename: NA\n"
     ]
    }
   ],
   "source": [
    "!cd data && unzip -q train2017.zip\n",
    "!cd data && unzip -q val2017.zip\n",
    "!cd data && unzip -q annotations_trainval2017.zip"
   ]
  },
  {
   "cell_type": "markdown",
   "metadata": {
    "id": "fFOtzdIpV1c7"
   },
   "source": [
    "#### COCO API"
   ]
  },
  {
   "cell_type": "code",
   "execution_count": 6,
   "metadata": {
    "colab": {
     "base_uri": "https://localhost:8080/"
    },
    "id": "titwa4eRTsZR",
    "outputId": "9013dcb4-cec4-4ec6-eef3-cb4668631edb"
   },
   "outputs": [
    {
     "name": "stdout",
     "output_type": "stream",
     "text": [
      "fatal: destination path 'cocoapi' already exists and is not an empty directory.\n",
      "python setup.py build_ext --inplace\n",
      "running build_ext\n",
      "skipping 'pycocotools/_mask.c' Cython extension (up-to-date)\n",
      "building 'pycocotools._mask' extension\n",
      "creating build\n",
      "creating build/common\n",
      "creating build/temp.linux-x86_64-3.7\n",
      "creating build/temp.linux-x86_64-3.7/pycocotools\n",
      "x86_64-linux-gnu-gcc -pthread -Wno-unused-result -Wsign-compare -DNDEBUG -g -fwrapv -O2 -Wall -g -fdebug-prefix-map=/build/python3.7-Y7dWVB/python3.7-3.7.12=. -fstack-protector-strong -Wformat -Werror=format-security -g -fdebug-prefix-map=/build/python3.7-Y7dWVB/python3.7-3.7.12=. -fstack-protector-strong -Wformat -Werror=format-security -Wdate-time -D_FORTIFY_SOURCE=2 -fPIC -I/usr/local/lib/python3.7/dist-packages/numpy/core/include -I../common -I/usr/include/python3.7m -c ../common/maskApi.c -o build/temp.linux-x86_64-3.7/../common/maskApi.o -Wno-cpp -Wno-unused-function -std=c99\n",
      "\u001b[01m\u001b[K../common/maskApi.c:\u001b[m\u001b[K In function ‘\u001b[01m\u001b[KrleDecode\u001b[m\u001b[K’:\n",
      "\u001b[01m\u001b[K../common/maskApi.c:46:7:\u001b[m\u001b[K \u001b[01;35m\u001b[Kwarning: \u001b[m\u001b[Kthis ‘\u001b[01m\u001b[Kfor\u001b[m\u001b[K’ clause does not guard... [\u001b[01;35m\u001b[K-Wmisleading-indentation\u001b[m\u001b[K]\n",
      "       \u001b[01;35m\u001b[Kfor\u001b[m\u001b[K( k=0; k<R[i].cnts[j]; k++ ) *(M++)=v; v=!v; }}\n",
      "       \u001b[01;35m\u001b[K^~~\u001b[m\u001b[K\n",
      "\u001b[01m\u001b[K../common/maskApi.c:46:49:\u001b[m\u001b[K \u001b[01;36m\u001b[Knote: \u001b[m\u001b[K...this statement, but the latter is misleadingly indented as if it were guarded by the ‘\u001b[01m\u001b[Kfor\u001b[m\u001b[K’\n",
      "       for( k=0; k<R[i].cnts[j]; k++ ) *(M++)=v; \u001b[01;36m\u001b[Kv\u001b[m\u001b[K=!v; }}\n",
      "                                                 \u001b[01;36m\u001b[K^\u001b[m\u001b[K\n",
      "\u001b[01m\u001b[K../common/maskApi.c:\u001b[m\u001b[K In function ‘\u001b[01m\u001b[KrleFrPoly\u001b[m\u001b[K’:\n",
      "\u001b[01m\u001b[K../common/maskApi.c:166:3:\u001b[m\u001b[K \u001b[01;35m\u001b[Kwarning: \u001b[m\u001b[Kthis ‘\u001b[01m\u001b[Kfor\u001b[m\u001b[K’ clause does not guard... [\u001b[01;35m\u001b[K-Wmisleading-indentation\u001b[m\u001b[K]\n",
      "   \u001b[01;35m\u001b[Kfor\u001b[m\u001b[K(j=0; j<k; j++) x[j]=(int)(scale*xy[j*2+0]+.5); x[k]=x[0];\n",
      "   \u001b[01;35m\u001b[K^~~\u001b[m\u001b[K\n",
      "\u001b[01m\u001b[K../common/maskApi.c:166:54:\u001b[m\u001b[K \u001b[01;36m\u001b[Knote: \u001b[m\u001b[K...this statement, but the latter is misleadingly indented as if it were guarded by the ‘\u001b[01m\u001b[Kfor\u001b[m\u001b[K’\n",
      "   for(j=0; j<k; j++) x[j]=(int)(scale*xy[j*2+0]+.5); \u001b[01;36m\u001b[Kx\u001b[m\u001b[K[k]=x[0];\n",
      "                                                      \u001b[01;36m\u001b[K^\u001b[m\u001b[K\n",
      "\u001b[01m\u001b[K../common/maskApi.c:167:3:\u001b[m\u001b[K \u001b[01;35m\u001b[Kwarning: \u001b[m\u001b[Kthis ‘\u001b[01m\u001b[Kfor\u001b[m\u001b[K’ clause does not guard... [\u001b[01;35m\u001b[K-Wmisleading-indentation\u001b[m\u001b[K]\n",
      "   \u001b[01;35m\u001b[Kfor\u001b[m\u001b[K(j=0; j<k; j++) y[j]=(int)(scale*xy[j*2+1]+.5); y[k]=y[0];\n",
      "   \u001b[01;35m\u001b[K^~~\u001b[m\u001b[K\n",
      "\u001b[01m\u001b[K../common/maskApi.c:167:54:\u001b[m\u001b[K \u001b[01;36m\u001b[Knote: \u001b[m\u001b[K...this statement, but the latter is misleadingly indented as if it were guarded by the ‘\u001b[01m\u001b[Kfor\u001b[m\u001b[K’\n",
      "   for(j=0; j<k; j++) y[j]=(int)(scale*xy[j*2+1]+.5); \u001b[01;36m\u001b[Ky\u001b[m\u001b[K[k]=y[0];\n",
      "                                                      \u001b[01;36m\u001b[K^\u001b[m\u001b[K\n",
      "\u001b[01m\u001b[K../common/maskApi.c:\u001b[m\u001b[K In function ‘\u001b[01m\u001b[KrleToString\u001b[m\u001b[K’:\n",
      "\u001b[01m\u001b[K../common/maskApi.c:212:7:\u001b[m\u001b[K \u001b[01;35m\u001b[Kwarning: \u001b[m\u001b[Kthis ‘\u001b[01m\u001b[Kif\u001b[m\u001b[K’ clause does not guard... [\u001b[01;35m\u001b[K-Wmisleading-indentation\u001b[m\u001b[K]\n",
      "       \u001b[01;35m\u001b[Kif\u001b[m\u001b[K(more) c |= 0x20; c+=48; s[p++]=c;\n",
      "       \u001b[01;35m\u001b[K^~\u001b[m\u001b[K\n",
      "\u001b[01m\u001b[K../common/maskApi.c:212:27:\u001b[m\u001b[K \u001b[01;36m\u001b[Knote: \u001b[m\u001b[K...this statement, but the latter is misleadingly indented as if it were guarded by the ‘\u001b[01m\u001b[Kif\u001b[m\u001b[K’\n",
      "       if(more) c |= 0x20; \u001b[01;36m\u001b[Kc\u001b[m\u001b[K+=48; s[p++]=c;\n",
      "                           \u001b[01;36m\u001b[K^\u001b[m\u001b[K\n",
      "\u001b[01m\u001b[K../common/maskApi.c:\u001b[m\u001b[K In function ‘\u001b[01m\u001b[KrleFrString\u001b[m\u001b[K’:\n",
      "\u001b[01m\u001b[K../common/maskApi.c:220:3:\u001b[m\u001b[K \u001b[01;35m\u001b[Kwarning: \u001b[m\u001b[Kthis ‘\u001b[01m\u001b[Kwhile\u001b[m\u001b[K’ clause does not guard... [\u001b[01;35m\u001b[K-Wmisleading-indentation\u001b[m\u001b[K]\n",
      "   \u001b[01;35m\u001b[Kwhile\u001b[m\u001b[K( s[m] ) m++; cnts=malloc(sizeof(uint)*m); m=0;\n",
      "   \u001b[01;35m\u001b[K^~~~~\u001b[m\u001b[K\n",
      "\u001b[01m\u001b[K../common/maskApi.c:220:22:\u001b[m\u001b[K \u001b[01;36m\u001b[Knote: \u001b[m\u001b[K...this statement, but the latter is misleadingly indented as if it were guarded by the ‘\u001b[01m\u001b[Kwhile\u001b[m\u001b[K’\n",
      "   while( s[m] ) m++; \u001b[01;36m\u001b[Kcnts\u001b[m\u001b[K=malloc(sizeof(uint)*m); m=0;\n",
      "                      \u001b[01;36m\u001b[K^~~~\u001b[m\u001b[K\n",
      "\u001b[01m\u001b[K../common/maskApi.c:228:5:\u001b[m\u001b[K \u001b[01;35m\u001b[Kwarning: \u001b[m\u001b[Kthis ‘\u001b[01m\u001b[Kif\u001b[m\u001b[K’ clause does not guard... [\u001b[01;35m\u001b[K-Wmisleading-indentation\u001b[m\u001b[K]\n",
      "     \u001b[01;35m\u001b[Kif\u001b[m\u001b[K(m>2) x+=(long) cnts[m-2]; cnts[m++]=(uint) x;\n",
      "     \u001b[01;35m\u001b[K^~\u001b[m\u001b[K\n",
      "\u001b[01m\u001b[K../common/maskApi.c:228:34:\u001b[m\u001b[K \u001b[01;36m\u001b[Knote: \u001b[m\u001b[K...this statement, but the latter is misleadingly indented as if it were guarded by the ‘\u001b[01m\u001b[Kif\u001b[m\u001b[K’\n",
      "     if(m>2) x+=(long) cnts[m-2]; \u001b[01;36m\u001b[Kcnts\u001b[m\u001b[K[m++]=(uint) x;\n",
      "                                  \u001b[01;36m\u001b[K^~~~\u001b[m\u001b[K\n",
      "\u001b[01m\u001b[K../common/maskApi.c:\u001b[m\u001b[K In function ‘\u001b[01m\u001b[KrleToBbox\u001b[m\u001b[K’:\n",
      "\u001b[01m\u001b[K../common/maskApi.c:141:31:\u001b[m\u001b[K \u001b[01;35m\u001b[Kwarning: \u001b[m\u001b[K‘\u001b[01m\u001b[Kxp\u001b[m\u001b[K’ may be used uninitialized in this function [\u001b[01;35m\u001b[K-Wmaybe-uninitialized\u001b[m\u001b[K]\n",
      "       if(j%2==0) xp=x; else if\u001b[01;35m\u001b[K(\u001b[m\u001b[Kxp<x) { ys=0; ye=h-1; }\n",
      "                               \u001b[01;35m\u001b[K^\u001b[m\u001b[K\n",
      "x86_64-linux-gnu-gcc -pthread -Wno-unused-result -Wsign-compare -DNDEBUG -g -fwrapv -O2 -Wall -g -fdebug-prefix-map=/build/python3.7-Y7dWVB/python3.7-3.7.12=. -fstack-protector-strong -Wformat -Werror=format-security -g -fdebug-prefix-map=/build/python3.7-Y7dWVB/python3.7-3.7.12=. -fstack-protector-strong -Wformat -Werror=format-security -Wdate-time -D_FORTIFY_SOURCE=2 -fPIC -I/usr/local/lib/python3.7/dist-packages/numpy/core/include -I../common -I/usr/include/python3.7m -c pycocotools/_mask.c -o build/temp.linux-x86_64-3.7/pycocotools/_mask.o -Wno-cpp -Wno-unused-function -std=c99\n",
      "creating build/lib.linux-x86_64-3.7\n",
      "creating build/lib.linux-x86_64-3.7/pycocotools\n",
      "x86_64-linux-gnu-gcc -pthread -shared -Wl,-O1 -Wl,-Bsymbolic-functions -Wl,-Bsymbolic-functions -Wl,-z,relro -Wl,-Bsymbolic-functions -Wl,-z,relro -g -fdebug-prefix-map=/build/python3.7-Y7dWVB/python3.7-3.7.12=. -fstack-protector-strong -Wformat -Werror=format-security -Wdate-time -D_FORTIFY_SOURCE=2 build/temp.linux-x86_64-3.7/../common/maskApi.o build/temp.linux-x86_64-3.7/pycocotools/_mask.o -o build/lib.linux-x86_64-3.7/pycocotools/_mask.cpython-37m-x86_64-linux-gnu.so\n",
      "copying build/lib.linux-x86_64-3.7/pycocotools/_mask.cpython-37m-x86_64-linux-gnu.so -> pycocotools\n",
      "rm -rf build\n"
     ]
    }
   ],
   "source": [
    "!cd data && git clone https://github.com/cocodataset/cocoapi\n",
    "!cd data/cocoapi/PythonAPI && make"
   ]
  },
  {
   "cell_type": "code",
   "execution_count": 7,
   "metadata": {
    "id": "36YFoZmEZtSe"
   },
   "outputs": [],
   "source": [
    "from pycocotools.coco import COCO\n",
    "COCO_ROOT = './data/'\n",
    "\n",
    "sys.path.insert(0, os.path.join(COCO_ROOT, 'cocoapi/PythonAPI'))"
   ]
  },
  {
   "cell_type": "markdown",
   "metadata": {
    "id": "bRGU3WpGaHq5"
   },
   "source": [
    "Универсальный датасет для классификации"
   ]
  },
  {
   "cell_type": "code",
   "execution_count": 8,
   "metadata": {
    "id": "UOuI69xeZtUv"
   },
   "outputs": [],
   "source": [
    "class Dataset():\n",
    "\n",
    "    def crop_images(self, img, inp_size, random_crop=False):\n",
    "        shape = tf.shape(img)\n",
    "        pad = (\n",
    "            [0, tf.maximum(inp_size - shape[0], 0)],\n",
    "            [0, tf.maximum(inp_size - shape[1], 0)],\n",
    "            [0, 0],\n",
    "        )\n",
    "        img = tf.pad(img, pad)\n",
    "\n",
    "        if random_crop:\n",
    "            img = tf.image.random_crop(img, (inp_size, inp_size, shape[2]))\n",
    "        else: # central crop\n",
    "            shape = tf.shape(img)\n",
    "            ho = (shape[0] - inp_size) // 2\n",
    "            wo = (shape[1] - inp_size) // 2\n",
    "            img = img[ho:ho+inp_size, wo:wo+inp_size, :]\n",
    "\n",
    "        return img\n",
    "\n",
    "    def train_dataset(self, batch_size, epochs, inp_size):\n",
    "\n",
    "        def item_to_images(item):\n",
    "            random_crop = True\n",
    "            img_combined = tf.py_function(self.read_images, [item], tf.uint8)\n",
    "            img_combined = self.crop_images(img_combined, inp_size, random_crop)\n",
    "\n",
    "            img = tf.cast(img_combined[...,:3], tf.float32) / np.float32(255.)\n",
    "            mask_class = tf.cast(img_combined[...,3:4], tf.float32)\n",
    "            return img, mask_class\n",
    "\n",
    "        dataset = tf.data.Dataset.from_tensor_slices(self.img_list)\n",
    "        dataset = dataset.shuffle(buffer_size=len(self.img_list))\n",
    "        dataset = dataset.map(item_to_images)\n",
    "        dataset = dataset.repeat(epochs)\n",
    "        dataset = dataset.batch(batch_size, drop_remainder=True)\n",
    "\n",
    "        return dataset\n",
    "\n",
    "    def val_dataset(self, batch_size, inp_size):\n",
    "\n",
    "        def item_to_images(item):\n",
    "            random_crop = False\n",
    "            img_combined = tf.py_function(self.read_images, [item], tf.uint8)\n",
    "            img_combined = self.crop_images(img_combined, inp_size, random_crop)\n",
    "\n",
    "            img = tf.cast(img_combined[...,:3], tf.float32) / np.float32(255.)\n",
    "            mask_class = tf.cast(img_combined[...,3:4], tf.float32)\n",
    "            return img, mask_class\n",
    "\n",
    "        dataset = tf.data.Dataset.from_tensor_slices(self.img_list)\n",
    "        dataset = dataset.map(item_to_images)\n",
    "        dataset = dataset.batch(batch_size, drop_remainder=True)\n",
    "\n",
    "        return dataset"
   ]
  },
  {
   "cell_type": "markdown",
   "metadata": {
    "id": "GwCqmVTRaLet"
   },
   "source": [
    "#### Класс для сегментационного датасета COCO\n",
    "Наследутся от универсльного Dataset и реализует кастомную функцию чтения данных."
   ]
  },
  {
   "cell_type": "code",
   "execution_count": 9,
   "metadata": {
    "id": "m8nZJjA9ZtXb"
   },
   "outputs": [],
   "source": [
    "class COCO_Dataset(Dataset):\n",
    "\n",
    "    def __init__(self, sublist):\n",
    "        ann_file_fpath = os.path.join(COCO_ROOT, 'annotations', 'instances_'+sublist+'2017.json')\n",
    "        self.coco = COCO(ann_file_fpath)\n",
    "        self.cat_ids = self.coco.getCatIds(catNms=['person'])\n",
    "        # Загружается не весь сет, а 4000\n",
    "        temp_img_list = self.coco.getImgIds(catIds=self.cat_ids)\n",
    "        self.img_list = []\n",
    "        for img_id in temp_img_list:\n",
    "          if len(self.img_list) < 4000:\n",
    "            img_data = self.coco.loadImgs(img_id)[0]\n",
    "            img_fname = '/'.join(img_data['coco_url'].split('/')[-2:])\n",
    "            if os.path.isfile(os.path.join(COCO_ROOT, img_fname)):\n",
    "              self.img_list.append(img_id)\n",
    "          else:\n",
    "            break\n",
    "\n",
    "    def read_images(self, img_id):\n",
    "        img_id = int(img_id.numpy())\n",
    "        img_data = self.coco.loadImgs(img_id)[0]\n",
    "        img_fname = '/'.join(img_data['coco_url'].split('/')[-2:])\n",
    "\n",
    "        img = io.imread(os.path.join(COCO_ROOT, img_fname))\n",
    "        if len(img.shape) == 2:\n",
    "            img = np.tile(img[..., None], (1, 1, 3))\n",
    "\n",
    "        ann_ids = self.coco.getAnnIds(imgIds=img_data['id'], catIds=self.cat_ids, iscrowd=None)\n",
    "        anns = self.coco.loadAnns(ann_ids)\n",
    "        mask_class = np.zeros((img.shape[0], img.shape[1]), dtype=np.uint8)\n",
    "        for i in range(len(anns)):\n",
    "            mask_class += self.coco.annToMask(anns[i])\n",
    "        mask_class = (mask_class > 0).astype(np.uint8)\n",
    "\n",
    "        img_combined = np.concatenate([img, mask_class[..., None]], axis=2)\n",
    "\n",
    "        return img_combined"
   ]
  },
  {
   "cell_type": "code",
   "execution_count": 10,
   "metadata": {
    "colab": {
     "base_uri": "https://localhost:8080/"
    },
    "id": "wZldHFvXZta2",
    "outputId": "6950cb9c-8d5b-4262-d679-66e3b0af6b67"
   },
   "outputs": [
    {
     "name": "stdout",
     "output_type": "stream",
     "text": [
      "loading annotations into memory...\n",
      "Done (t=26.73s)\n",
      "creating index...\n",
      "index created!\n",
      "loading annotations into memory...\n",
      "Done (t=3.07s)\n",
      "creating index...\n",
      "index created!\n"
     ]
    }
   ],
   "source": [
    "COCO_dataset_train = COCO_Dataset('train')\n",
    "COCO_dataset_val = COCO_Dataset('val')"
   ]
  },
  {
   "cell_type": "code",
   "execution_count": 11,
   "metadata": {
    "colab": {
     "base_uri": "https://localhost:8080/"
    },
    "id": "RrmGcWhUZtcZ",
    "outputId": "bf7512ea-2da3-4ff5-99ec-29345297da9e"
   },
   "outputs": [
    {
     "data": {
      "text/plain": [
       "4000"
      ]
     },
     "execution_count": 11,
     "metadata": {},
     "output_type": "execute_result"
    }
   ],
   "source": [
    "len(COCO_dataset_train.img_list)"
   ]
  },
  {
   "cell_type": "markdown",
   "metadata": {
    "id": "75lgQizpcnSx"
   },
   "source": [
    "Кол-во эпох и размер батча"
   ]
  },
  {
   "cell_type": "code",
   "execution_count": 12,
   "metadata": {
    "id": "LYc1jVZXZte4"
   },
   "outputs": [],
   "source": [
    "NUM_EPOCHS = 4\n",
    "BATCH_SIZE = 32"
   ]
  },
  {
   "cell_type": "code",
   "execution_count": 13,
   "metadata": {
    "id": "2ux_vLxSZthY"
   },
   "outputs": [],
   "source": [
    "train_set = COCO_dataset_train.train_dataset(BATCH_SIZE, NUM_EPOCHS, 256)\n",
    "val_set = COCO_dataset_val.val_dataset(BATCH_SIZE, 256)"
   ]
  },
  {
   "cell_type": "markdown",
   "metadata": {
    "id": "IstPs9IddB7H"
   },
   "source": [
    "#### Используем Unet на TF Keras"
   ]
  },
  {
   "cell_type": "code",
   "execution_count": 14,
   "metadata": {
    "id": "PGtYfz5dcvuU"
   },
   "outputs": [],
   "source": [
    "def build_model():\n",
    "    x = tf.keras.layers.Input((256, 256, 3)) # входной размер картинки(для некоторых архитектура можно использовать None вместо размера)\n",
    "    \n",
    "    # Дальше применяем свертку, понимать это стоит так: Создаем слой и сразу вызываем его для входных данных - х\n",
    "    out = tf.keras.layers.Conv2D(64, (3, 3), padding='same', activation='relu')(x)\n",
    "    # Тут необходимо назвать по другому, чтобы результат потом пробросить в конец сети для конкатенации\n",
    "    out1 = tf.keras.layers.Conv2D(64, (3, 3), padding='same', activation='relu')(out)\n",
    "    out = tf.keras.layers.MaxPool2D((2, 2))(out1)\n",
    "\n",
    "    out = tf.keras.layers.Conv2D(64, (3, 3), padding='same', activation='relu')(out)\n",
    "    out2 = tf.keras.layers.Conv2D(128, (3, 3), padding='same', activation='relu')(out)\n",
    "    out = tf.keras.layers.MaxPool2D((2, 2))(out2)\n",
    "\n",
    "    out = tf.keras.layers.Conv2D(256, (3, 3), padding='same', activation='relu')(out)\n",
    "    out3 = tf.keras.layers.Conv2D(256, (3, 3), padding='same', activation='relu')(out)\n",
    "    out = tf.keras.layers.MaxPool2D((2, 2))(out3)\n",
    "\n",
    "    out = tf.keras.layers.Conv2D(512, (3, 3), padding='same', activation='relu')(out)\n",
    "    out4 = tf.keras.layers.Conv2D(512, (3, 3), padding='same', activation='relu')(out)\n",
    "    out = tf.keras.layers.MaxPool2D((2, 2))(out4)\n",
    "\n",
    "    out = tf.keras.layers.Conv2D(1024, (3, 3), padding='same', activation='relu')(out)\n",
    "    out = tf.keras.layers.Conv2D(1024, (3, 3), padding='same', activation='relu')(out)\n",
    "\n",
    "    # Транспонированная свертка(увеличение картинки сверткой)\n",
    "    # Увеличиваем пространственные размерности страйдом (2,2)\n",
    "    out = tf.keras.layers.Conv2DTranspose(512, (3, 3), strides=(2, 2), padding='same', activation='relu')(out)\n",
    "    # Skip connection\n",
    "    # Проброс информации о картинки пучем конкатенации, об этом говорилось ранее. Конкатенируем по 3тьему измерению(канальному)\n",
    "    out = tf.concat([out4, out], axis=3)\n",
    "    # Далее снова передаем в свертки\n",
    "    out = tf.keras.layers.Conv2D(512, (3, 3), padding='same', activation='relu')(out)\n",
    "    out = tf.keras.layers.Conv2D(512, (3, 3), padding='same', activation='relu')(out)\n",
    "    # Затем опять повышаем разрешение\n",
    "    out = tf.keras.layers.Conv2DTranspose(256, (3, 3), strides=(2, 2), padding='same', activation='relu')(out)\n",
    "    out = tf.concat([out3, out], axis=3)\n",
    "\n",
    "    out = tf.keras.layers.Conv2D(256, (3, 3), padding='same', activation='relu')(out)\n",
    "    out = tf.keras.layers.Conv2D(256, (3, 3), padding='same', activation='relu')(out)\n",
    "\n",
    "    out = tf.keras.layers.Conv2DTranspose(128, (3, 3), strides=(2, 2), padding='same', activation='relu')(out)\n",
    "    out = tf.concat([out2, out], axis=3)\n",
    "\n",
    "    out = tf.keras.layers.Conv2D(128, (3, 3), padding='same', activation='relu')(out)\n",
    "    out = tf.keras.layers.Conv2D(128, (3, 3), padding='same', activation='relu')(out)\n",
    "\n",
    "    out = tf.keras.layers.Conv2DTranspose(64, (3, 3), strides=(2, 2), padding='same', activation='relu')(out)\n",
    "    out = tf.concat([out1, out], axis=3)\n",
    "\n",
    "    out = tf.keras.layers.Conv2D(64, (3, 3), padding='same', activation='relu')(out)\n",
    "    out = tf.keras.layers.Conv2D(64, (3, 3), padding='same', activation='relu')(out)\n",
    "    # На выходе имеем 1 канал в выходной карте признаком. Тоесть каждый пиксель будет иметь вероятность принадлежности к классам фон/человек\n",
    "    out = tf.keras.layers.Conv2D(1, (3, 3), padding='same', activation='sigmoid')(out)\n",
    "\n",
    "    # Теперь просто передадим наш граф в керас\n",
    "    return tf.keras.Model(inputs=x, outputs=out)\n",
    "\n",
    "model = build_model()"
   ]
  },
  {
   "cell_type": "code",
   "execution_count": null,
   "metadata": {
    "colab": {
     "base_uri": "https://localhost:8080/"
    },
    "id": "_N26KJvycvws",
    "outputId": "ca159c26-38b6-4c05-c9aa-0048a84174aa"
   },
   "outputs": [
    {
     "name": "stdout",
     "output_type": "stream",
     "text": [
      "Epoch 1/4\n"
     ]
    }
   ],
   "source": [
    "loss = tf.keras.losses.BinaryCrossentropy()\n",
    "model.compile(optimizer='adam', loss=loss)\n",
    "\n",
    "EXP_NAME = 'transfer'\n",
    "tensorboard_callback = tf.keras.callbacks.TensorBoard(\n",
    "    log_dir='logs/'+EXP_NAME, \n",
    "    write_graph=False, update_freq=100, profile_batch=0)\n",
    "\n",
    "hist = model.fit(train_set, \n",
    "                 batch_size = BATCH_SIZE,\n",
    "                 validation_data = val_set,\n",
    "                 epochs=NUM_EPOCHS,\n",
    "                 callbacks = [tensorboard_callback])\n",
    "\n",
    "plt.plot(hist.history['loss'])"
   ]
  },
  {
   "cell_type": "code",
   "execution_count": null,
   "metadata": {
    "id": "jKAAWmbrdt9y"
   },
   "outputs": [],
   "source": []
  },
  {
   "cell_type": "code",
   "execution_count": null,
   "metadata": {
    "id": "qpNC3DiuduAc"
   },
   "outputs": [],
   "source": []
  },
  {
   "cell_type": "code",
   "execution_count": null,
   "metadata": {
    "id": "0qWkxSTeduC3"
   },
   "outputs": [],
   "source": []
  },
  {
   "cell_type": "code",
   "execution_count": null,
   "metadata": {
    "id": "abtAe7zJcvy-"
   },
   "outputs": [],
   "source": []
  },
  {
   "cell_type": "code",
   "execution_count": null,
   "metadata": {
    "id": "3jH67Mvwcv1r"
   },
   "outputs": [],
   "source": []
  }
 ],
 "metadata": {
  "accelerator": "TPU",
  "colab": {
   "name": "hw_4.ipynb",
   "provenance": []
  },
  "kernelspec": {
   "display_name": "Python 3",
   "language": "python",
   "name": "python3"
  },
  "language_info": {
   "codemirror_mode": {
    "name": "ipython",
    "version": 3
   },
   "file_extension": ".py",
   "mimetype": "text/x-python",
   "name": "python",
   "nbconvert_exporter": "python",
   "pygments_lexer": "ipython3",
   "version": "3.8.4"
  }
 },
 "nbformat": 4,
 "nbformat_minor": 1
}
