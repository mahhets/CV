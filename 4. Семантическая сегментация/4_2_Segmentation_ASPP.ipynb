{
 "cells": [
  {
   "cell_type": "markdown",
   "metadata": {
    "id": "wVsiOtnw65OQ"
   },
   "source": [
    "# Семантическая Сегментация. Часть 2.\n",
    "\n",
    "ASPP - ATROUS SPATIAL PYRAMID POOLING\n",
    "\n",
    "Основная идея в том, что кроме частей энкодер(уменьшение пространственного измерения) и декодер(увеличение) в середине был блок ASPP, суть которого в применении несколько параллельных делатеционных сверток(увеличение рецептивного поля)"
   ]
  },
  {
   "cell_type": "code",
   "execution_count": null,
   "metadata": {
    "colab": {
     "base_uri": "https://localhost:8080/",
     "height": 34
    },
    "id": "982oMTcKUHNA",
    "outputId": "b3f4ce25-0ae5-427c-96f7-670e4fc6920c"
   },
   "outputs": [
    {
     "name": "stdout",
     "output_type": "stream",
     "text": [
      "TensorFlow 2.x selected.\n"
     ]
    }
   ],
   "source": [
    "%tensorflow_version 2.x"
   ]
  },
  {
   "cell_type": "code",
   "execution_count": null,
   "metadata": {
    "id": "gaMg5neBLpir"
   },
   "outputs": [],
   "source": [
    "import tensorflow as tf"
   ]
  },
  {
   "cell_type": "markdown",
   "metadata": {
    "id": "bRGAiaSk6_Gj"
   },
   "source": [
    "## Модель ASPP"
   ]
  },
  {
   "cell_type": "code",
   "execution_count": null,
   "metadata": {
    "id": "xRU14xxDLpje"
   },
   "outputs": [],
   "source": [
    "# сам ASPP блок\n",
    "class ASPPBlock(tf.keras.Model):\n",
    "  # Свертка\n",
    "    def __init__(self):\n",
    "        super().__init__()\n",
    "        # Свертка 1 - поканальная смесь всех наших каналов\n",
    "        self.conv1 = tf.keras.layers.Conv2D(256, (1, 1), padding='same', activation='relu')\n",
    "        # Группа делатеционных сверток, в котором dilation_rate=6 - шаг разброса между пикселями(условно)\n",
    "        self.conv2 = tf.keras.layers.Conv2D(256, (3, 3), dilation_rate=6, padding='same', activation='relu')\n",
    "        self.conv3 = tf.keras.layers.Conv2D(256, (3, 3), dilation_rate=12, padding='same', activation='relu')\n",
    "        self.conv4 = tf.keras.layers.Conv2D(256, (3, 3), dilation_rate=18, padding='same', activation='relu')\n",
    "        # С помощью свертки 1х1 меняем кол-во каналов(поканально перешивая карты признаков) и получаем на выходе 256 карт признаков\n",
    "        self.conv5 = tf.keras.layers.Conv2D(256, (1, 1), padding='same', activation='relu')\n",
    "  # Инференс\n",
    "    def call(self, inp, is_training=False):\n",
    "        out1 = self.conv1(inp)\n",
    "        out2 = self.conv2(inp)\n",
    "        out3 = self.conv3(inp)\n",
    "        out4 = self.conv4(inp)\n",
    "        # Конкатенируем результаты по канальному измерению\n",
    "        out = tf.concat([out1, out2, out3, out4], axis=3)\n",
    "        out = self.conv5(out)\n",
    "        return out\n",
    "    \n",
    "class ASPPNet(tf.keras.Model):\n",
    "    def __init__(self):\n",
    "        super().__init__()\n",
    "        # Encoder\n",
    "        self.conv1 = tf.keras.layers.Conv2D(64, (3, 3), padding='same', activation='relu')\n",
    "        self.conv2 = tf.keras.layers.Conv2D(64, (3, 3), padding='same', activation='relu')\n",
    "        self.conv3 = tf.keras.layers.Conv2D(128, (3, 3), padding='same', activation='relu')\n",
    "        self.conv4 = tf.keras.layers.Conv2D(128, (3, 3), padding='same', activation='relu')\n",
    "        self.conv5 = tf.keras.layers.Conv2D(256, (3, 3), padding='same', activation='relu')\n",
    "        self.conv6 = tf.keras.layers.Conv2D(256, (3, 3), padding='same', activation='relu')\n",
    "        self.conv7 = tf.keras.layers.Conv2D(512, (3, 3), padding='same', activation='relu')\n",
    "        self.conv8 = tf.keras.layers.Conv2D(512, (3, 3), padding='same', activation='relu')\n",
    "        self.conv9 = tf.keras.layers.Conv2D(512, (3, 3), padding='same', activation='relu')\n",
    "        self.conv10 = tf.keras.layers.Conv2D(512, (3, 3), padding='same', activation='relu')\n",
    "        # Decoder\n",
    "        self.conv11 = tf.keras.layers.Conv2D(48, (1, 1), padding='same', activation='relu')\n",
    "        self.conv12 = tf.keras.layers.Conv2D(256, (3, 3), padding='same', activation='relu')\n",
    "        self.conv13 = tf.keras.layers.Conv2D(256, (3, 3), padding='same', activation='relu')\n",
    "        # Свертка для выходной карты признаков\n",
    "        self.conv14 = tf.keras.layers.Conv2D(1, (1, 1), padding='same', activation=None)\n",
    "\n",
    "        self.maxpool = tf.keras.layers.MaxPooling2D((2, 2), (2, 2), padding='same')\n",
    "        # Вызываем наш ASPP слой, чтобы инициализировать веса\n",
    "        self.aspp = ASPPBlock()\n",
    "\n",
    "    def call(self, x):\n",
    "\n",
    "        out = self.conv1(x)\n",
    "        out = self.conv2(out)\n",
    "        out = self.maxpool(out)\n",
    "        out = self.conv3(out)\n",
    "        out = self.conv4(out)\n",
    "        out = self.maxpool(out)\n",
    "        out = self.conv5(out)\n",
    "        out = self.conv6(out)\n",
    "        # Сохраняем промежуточный тензор, чтобы потом через Skip Connection подать его в конец\n",
    "        out_enc_mid = out\n",
    "        out = self.maxpool(out)\n",
    "        out = self.conv7(out)\n",
    "        out = self.conv8(out)\n",
    "        out = self.maxpool(out)\n",
    "        out = self.conv9(out)\n",
    "        out = self.conv10(out)\n",
    "        # Дошли до самого глубокого состояния энкодера и применяем ASPP\n",
    "        out = self.aspp(out)\n",
    "        # Очень просто повышаем разрешение картинок(на деле так нельзя) до размеров промежуточного тензора, где [1:3] означает 2 пространсвенных измерения(1 - ширина, 2 - высота)\n",
    "        out = tf.image.resize(out, tf.shape(out_enc_mid)[1:3], tf.image.ResizeMethod.BILINEAR)\n",
    "        # Дополнительная свертка 1х1, задача которой привести тензор к фиксированному кол-ву каналов(в данном с случае до 48)\n",
    "        out_enc_mid = self.conv11(out_enc_mid)\n",
    "        # Пробрасываем Skip Connection\n",
    "        out = tf.concat([out, out_enc_mid], axis=3)\n",
    "\n",
    "        out = self.conv12(out)\n",
    "        out = self.conv13(out)\n",
    "        out = self.conv14(out)\n",
    "        # Ресайз до размеров Х - входной картинки\n",
    "        out = tf.image.resize(out, tf.shape(x)[1:3], tf.image.ResizeMethod.BILINEAR)\n",
    "        # Сигмоидная функция для вероятности принадлежности пикселей классам\n",
    "        out = tf.nn.sigmoid(out)\n",
    "        return out\n",
    "    \n",
    "model = ASPPNet()"
   ]
  }
 ],
 "metadata": {
  "accelerator": "GPU",
  "colab": {
   "collapsed_sections": [],
   "name": "4_2_Segmentation_ASPP.ipynb",
   "provenance": []
  },
  "kernelspec": {
   "display_name": "Python 3",
   "language": "python",
   "name": "python3"
  },
  "language_info": {
   "codemirror_mode": {
    "name": "ipython",
    "version": 3
   },
   "file_extension": ".py",
   "mimetype": "text/x-python",
   "name": "python",
   "nbconvert_exporter": "python",
   "pygments_lexer": "ipython3",
   "version": "3.8.4"
  }
 },
 "nbformat": 4,
 "nbformat_minor": 1
}
